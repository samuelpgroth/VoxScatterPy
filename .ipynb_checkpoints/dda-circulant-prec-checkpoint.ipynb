{
 "cells": [
  {
   "cell_type": "markdown",
   "metadata": {},
   "source": [
    "## Accelerating the Discrete Dipole Approximation via Circulant Preconditioning\n",
    "This is a Python implementation of the preconditioning algorithm proposed in [1] for accelerating the convergence of iterative solvers (such as BiCG-Stab and GMRES) for the linear systems arising in the Discrete Dipole Approximation (DDA). The examples provided here are for highly-oblate plates: a hexagon and a Koch snowflake.\n",
    "  \n",
    "The scattering setup looks like:\n",
    "<img src=figures/hex_plate_image.pdf width=\"300\">\n",
    "\n",
    "### References\n",
    "[1] [S. P. Groth, A. G. Polimeridis, and J. K. White, \"Accelerating the Discrete Dipole via Circulant Preconditioning,\" *J Quant Spectrosc Radiat Trans*, 240 (2020) 106689](https://www.sciencedirect.com/science/article/pii/S0022407319302080) \n"
   ]
  },
  {
   "cell_type": "code",
   "execution_count": 1,
   "metadata": {},
   "outputs": [],
   "source": [
    "import numpy as np"
   ]
  },
  {
   "cell_type": "markdown",
   "metadata": {},
   "source": [
    "## Geometry\n",
    "We begin by defining the important geometrical parameters for our scatterer:\n",
    "* Shape (currently have hexagonal plate or Koch snowflake, more can be added by editing geometry.py)\n",
    "* Size parameter and aspect ratio of shape\n",
    "* Complex refractive index of scatterer"
   ]
  },
  {
   "cell_type": "code",
   "execution_count": null,
   "metadata": {},
   "outputs": [],
   "source": [
    "geom = 'hex'        #  'hex' or 'koch'\n",
    "aspectRatio = 1/10  # ratio of column's height to it's width\n",
    "sizeParam = 25      # size parameter\n",
    "nPerLam = 10        # number of voxels per interior wavelength\n",
    "\n",
    "# Refractive index of scatterer (real and imaginary parts)\n",
    "refRe = 1.5\n",
    "refIm = 0.0\n",
    "refInd = refRe + 1j*refIm"
   ]
  },
  {
   "cell_type": "markdown",
   "metadata": {},
   "source": [
    "Now we can generate the scatterer shape and voxelize the bounding box around it. We find the indices ('idx') of the voxels lying inside the shape."
   ]
  },
  {
   "cell_type": "code",
   "execution_count": null,
   "metadata": {},
   "outputs": [],
   "source": [
    "from geometry import shape\n",
    "r, idx, res, P, lambda_ext, lambda_int = shape(geom, refInd, sizeParam, nPerLam, aspectRatio)"
   ]
  },
  {
   "cell_type": "code",
   "execution_count": null,
   "metadata": {},
   "outputs": [],
   "source": [
    "(L, M, N, _) = r.shape  # number of voxels in x-, y-, z-directions\n",
    "#  Arrays containing the x, y, z coordinates, these are handy for plotting the geometry\n",
    "xd = r[:, :, :, 0]\n",
    "yd = r[:, :, :, 1]\n",
    "zd = r[:, :, :, 2]"
   ]
  },
  {
   "cell_type": "code",
   "execution_count": null,
   "metadata": {},
   "outputs": [],
   "source": [
    "from mpl_toolkits.mplot3d import Axes3D \n",
    "from plotting import set_axes_equal\n",
    "import matplotlib\n",
    "import matplotlib.pyplot as plt\n",
    "\n",
    "matplotlib.rcParams.update({'font.size': 20})\n",
    "plt.rc('text', usetex=True)\n",
    "plt.rc('font', family='serif')\n",
    "fig = plt.figure(figsize=(12, 8))\n",
    "ax = fig.gca(projection='3d')\n",
    "ax.set_aspect('equal')\n",
    "\n",
    "ax.scatter(xd[idx], yd[idx], zd[idx])\n",
    "\n",
    "ax.set_xlabel('$x$')\n",
    "ax.set_ylabel('$y$')\n",
    "ax.set_zlabel('$z$')\n",
    "set_axes_equal(ax)  \n",
    "plt.show()\n",
    "\n",
    "# To center-align figure\n",
    "from IPython.core.display import HTML\n",
    "HTML(\"\"\"\n",
    "<style>\n",
    ".output_png {\n",
    "    display: table-cell;\n",
    "    text-align: center;\n",
    "    vertical-align: middle;\n",
    "}\n",
    "</style>\n",
    "\"\"\")"
   ]
  },
  {
   "cell_type": "markdown",
   "metadata": {},
   "source": [
    "## Incident field\n",
    "We consider an incident plane wave, travelling in the positive $x$-direction and polarized in the $z$-direction."
   ]
  },
  {
   "cell_type": "code",
   "execution_count": null,
   "metadata": {},
   "outputs": [],
   "source": [
    "from fields import PlaneWavePointWise\n",
    "Eo = np.array((0, 0, 1))     # z-polarization\n",
    "dInc = np.array((1, 0, 0))   # direction\n",
    "ko = 2*np.pi/lambda_ext\n",
    "kvec = ko * dInc\n",
    "Einc = PlaneWavePointWise(Eo, kvec, r)"
   ]
  },
  {
   "cell_type": "markdown",
   "metadata": {},
   "source": [
    "## Toeplitz operator and its circulant embedding\n",
    "Here we create the integral operator which, when discretized over a voxel grid, gives rise to a Toeplitz matrix. This Toeplitz matrix is then embedded within a circulant matrix so that the FFT can be employed for matrix-vector products."
   ]
  },
  {
   "cell_type": "code",
   "execution_count": null,
   "metadata": {},
   "outputs": [],
   "source": [
    "from operators import getOPERATOR_DDA\n",
    "nearby_quad = 'on'  # 'off' reverts to the \"classical\" DDA, \"on\" provides more accurate quadrature for nearby voxels\n",
    "circ_op, Toep, alpha_LDR = getOPERATOR_DDA(r, ko, refInd, kvec, Eo, nearby_quad)"
   ]
  },
  {
   "cell_type": "code",
   "execution_count": null,
   "metadata": {},
   "outputs": [],
   "source": [
    "# Establish DDA matrix-vector product function\n",
    "id = np.ones((L, M, N))   # identity\n",
    "     \n",
    "dx = r[1, 0, 0, 0] - r[0, 0, 0, 0]\n",
    "dV = dx**3;   # voxel volume"
   ]
  },
  {
   "cell_type": "code",
   "execution_count": null,
   "metadata": {},
   "outputs": [],
   "source": [
    "Mr = np.ones((L, M, N))\n",
    "Gram = 1/alpha_LDR\n",
    "chi = np.zeros((L, M, N), dtype=np.complex128)\n",
    "chi[idx] = 1; \n",
    "Mc = dV * chi"
   ]
  },
  {
   "cell_type": "code",
   "execution_count": null,
   "metadata": {},
   "outputs": [],
   "source": [
    "JIn = np.zeros((L, M, N, 3), dtype=np.complex128)\n",
    "JIn[idx] = Einc[idx]\n",
    "JInVec = JIn.reshape((3*L*M*N, 1), order='F')"
   ]
  },
  {
   "cell_type": "code",
   "execution_count": null,
   "metadata": {},
   "outputs": [],
   "source": [
    "from matvecs import mvp_vec\n",
    "from scipy.sparse.linalg import LinearOperator\n",
    "mvp_body = lambda x: mvp_vec(x, circ_op, idx, Gram, Mr, Mc)\n",
    "A = LinearOperator((3*L*M*N, 3*L*M*N), matvec=mvp_body)"
   ]
  },
  {
   "cell_type": "code",
   "execution_count": null,
   "metadata": {},
   "outputs": [],
   "source": [
    "from scipy.sparse.linalg import gmres\n",
    "import time\n",
    "# Callback function to output the residual\n",
    "resvec = []\n",
    "def residual_vector(rk):\n",
    "    global resvec\n",
    "    resvec.append(rk)\n",
    "\n",
    "start = time.time()\n",
    "sol, info = gmres(A, JInVec, tol=1e-4, restart=500, callback=residual_vector)\n",
    "end = time.time()\n",
    "print(\"The linear system was solved in {0} iterations\".format(len(resvec)))\n",
    "print('Solve time = ', end-start,'s')\n",
    "resvec0 = resvec"
   ]
  },
  {
   "cell_type": "code",
   "execution_count": null,
   "metadata": {},
   "outputs": [],
   "source": [
    "Pout = sol.reshape(L, M, N, 3, order='F')\n",
    "CHI = (refInd**2 - 1) / (4 * np.pi)\n",
    "Eout = Pout / CHI\n",
    "\n",
    "Mc = dV * id\n",
    "\n",
    "idx_n = np.ones((L, M, N, 3), dtype=bool)\n",
    "\n",
    "mvp_all = lambda x: mvp_vec(x, circ_op, idx_n, Gram, Mr, Mc)\n",
    "\n",
    "temp = mvp_all(sol)\n",
    "\n",
    "# Evaluate field throughout computation domain\n",
    "Etemp = temp.reshape(L, M, N, 3, order='F')\n",
    "E = Einc - Etemp + Eout;"
   ]
  },
  {
   "cell_type": "code",
   "execution_count": null,
   "metadata": {},
   "outputs": [],
   "source": [
    "%matplotlib inline\n",
    "import matplotlib\n",
    "from matplotlib import pyplot as plt\n",
    "from matplotlib.patches import Polygon\n",
    "from matplotlib.collections import PatchCollection\n",
    "matplotlib.rcParams.update({'font.size': 20})\n",
    "plt.rc('text', usetex=True)\n",
    "plt.rc('font', family='serif')\n",
    "fig = plt.figure(figsize=(12, 8))\n",
    "ax = fig.gca()\n",
    "plt.imshow(np.real(E[:, :, 1, 2].T), extent=[np.min(xd),np.max(xd),np.min(yd),np.max(yd)],\n",
    "           cmap=plt.cm.get_cmap('RdBu_r'), interpolation='spline16')\n",
    "\n",
    "polygon = Polygon(P, facecolor=\"none\", \n",
    "              edgecolor='black', lw=0.8)\n",
    "plt.gca().add_patch(polygon)\n",
    "\n",
    "plt.xlabel('$x$')\n",
    "plt.ylabel('$y$')\n",
    "plt.colorbar()\n",
    "\n",
    "plt.show()\n"
   ]
  },
  {
   "cell_type": "markdown",
   "metadata": {},
   "source": [
    "## Construct circulant preconditioner"
   ]
  },
  {
   "cell_type": "code",
   "execution_count": null,
   "metadata": {},
   "outputs": [],
   "source": [
    "from circulant import circ_1_level\n",
    "circ, circ_L_opToep = circ_1_level(Toep, L, M, N)"
   ]
  },
  {
   "cell_type": "code",
   "execution_count": null,
   "metadata": {},
   "outputs": [],
   "source": [
    "from circulant import circ_2_level\n",
    "circ2, circ_M_opToep = circ_2_level(circ_L_opToep, L, M, N)"
   ]
  },
  {
   "cell_type": "code",
   "execution_count": null,
   "metadata": {},
   "outputs": [],
   "source": [
    "# Invert preconditioner\n",
    "circ2_inv = np.zeros_like(circ2)\n",
    "for i in range(0, L):\n",
    "    for j in range(0, M):\n",
    "        circ2_inv[i, j, :, :] = np.linalg.inv(1/alpha_LDR*np.identity(3*N) - dV*circ2[i, j, :, :])"
   ]
  },
  {
   "cell_type": "code",
   "execution_count": null,
   "metadata": {},
   "outputs": [],
   "source": [
    "from matvecs import mvp_circ2\n",
    "mvp_prec = lambda x: mvp_circ2(x, circ2_inv, L, M, N, idx)\n",
    "prec = LinearOperator((3*L*M*N, 3*L*M*N), matvec=mvp_prec)\n",
    "A = LinearOperator((3*L*M*N, 3*L*M*N), matvec=mvp_body)"
   ]
  },
  {
   "cell_type": "code",
   "execution_count": null,
   "metadata": {},
   "outputs": [],
   "source": [
    "start = time.time()\n",
    "resvec = []\n",
    "sol1, info1 = gmres(A, JInVec, M=prec, tol=1e-4, restart=500, callback=residual_vector)\n",
    "end = time.time()\n",
    "print(\"The linear system was solved in {0} iterations\".format(len(resvec)))\n",
    "print('Solve time = ', end-start,'s')"
   ]
  },
  {
   "cell_type": "code",
   "execution_count": null,
   "metadata": {},
   "outputs": [],
   "source": [
    "%matplotlib inline\n",
    "import matplotlib\n",
    "from matplotlib import pyplot as plt\n",
    "\n",
    "matplotlib.rcParams.update({'font.size': 20})\n",
    "plt.rc('text', usetex=True)\n",
    "plt.rc('font', family='serif')\n",
    "fig = plt.figure(figsize=(9, 6))\n",
    "ax = fig.gca()\n",
    "plt.semilogy(resvec0/resvec0[0])\n",
    "plt.semilogy(resvec/resvec[0])\n",
    "plt.grid()\n",
    "\n",
    "# labels\n",
    "plt.ylabel('Relative residual')\n",
    "plt.xlabel('Iterations')\n",
    "# ax.yaxis.major.formatter._useMathText = True\n",
    "\n",
    "plt.legend(('No preconditioning', 'Circulant preconditioning'),\n",
    "           shadow=True, loc=(0.37, 0.7), handlelength=1.5, fontsize=20)"
   ]
  },
  {
   "cell_type": "code",
   "execution_count": null,
   "metadata": {},
   "outputs": [],
   "source": [
    "np.linalg.norm(mvp_body(sol1)-JInVec)/np.linalg.norm(JInVec)"
   ]
  }
 ],
 "metadata": {
  "kernelspec": {
   "display_name": "Python 3",
   "language": "python",
   "name": "python3"
  },
  "language_info": {
   "codemirror_mode": {
    "name": "ipython",
    "version": 3
   },
   "file_extension": ".py",
   "mimetype": "text/x-python",
   "name": "python",
   "nbconvert_exporter": "python",
   "pygments_lexer": "ipython3",
   "version": "3.7.2"
  }
 },
 "nbformat": 4,
 "nbformat_minor": 2
}
