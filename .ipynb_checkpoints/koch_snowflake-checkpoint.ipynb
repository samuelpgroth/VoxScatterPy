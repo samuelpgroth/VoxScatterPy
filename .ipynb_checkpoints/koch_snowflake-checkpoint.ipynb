{
 "cells": [
  {
   "cell_type": "code",
   "execution_count": 1,
   "metadata": {},
   "outputs": [],
   "source": [
    "import numpy as np\n",
    "import matplotlib.pyplot as plt\n",
    "from geometry import generatedomain, koch_snowflake"
   ]
  },
  {
   "cell_type": "code",
   "execution_count": 2,
   "metadata": {},
   "outputs": [],
   "source": [
    "def koch_snowflake(order, scale=1):\n",
    "    \"\"\"\n",
    "    Return two lists x, y of point coordinates of the Koch snowflake.\n",
    "\n",
    "    Arguments\n",
    "    ---------\n",
    "    order : int\n",
    "        The recursion depth.\n",
    "    scale : float\n",
    "        The extent of the snowflake (edge length of the base triangle).\n",
    "    \"\"\"\n",
    "    def _koch_snowflake_complex(order):\n",
    "        if order == 0:\n",
    "            # initial triangle\n",
    "            angles = np.array([0, 120, 240]) + 90\n",
    "            return scale * np.exp(np.deg2rad(angles) * 1j)\n",
    "#             return scale / np.sqrt(3) * np.exp(np.deg2rad(angles) * 1j)\n",
    "        else:\n",
    "            ZR = 0.5 - 0.5j * np.sqrt(3) / 3\n",
    "\n",
    "            p1 = _koch_snowflake_complex(order - 1)  # start points\n",
    "            p2 = np.roll(p1, shift=-1)  # end points\n",
    "            dp = p2 - p1  # connection vectors\n",
    "\n",
    "            new_points = np.empty(len(p1) * 4, dtype=np.complex128)\n",
    "            new_points[::4] = p1\n",
    "            new_points[1::4] = p1 + dp / 3\n",
    "            new_points[2::4] = p1 + dp * ZR\n",
    "            new_points[3::4] = p1 + dp / 3 * 2\n",
    "            return new_points\n",
    "\n",
    "    points = _koch_snowflake_complex(order)\n",
    "    x, y = points.real, points.imag\n",
    "    \n",
    "    # Stick coordinates into an array (useful for contains_points function)\n",
    "    P = np.zeros((x.shape[0], 2), dtype=np.float64)\n",
    "    P[:, 0] = x\n",
    "    P[:, 1] = y\n",
    "    \n",
    "    return x, y, P"
   ]
  },
  {
   "cell_type": "code",
   "execution_count": 3,
   "metadata": {},
   "outputs": [],
   "source": [
    "# Geometrical parameters\n",
    "sizeParam = 5;  # size parameter\n",
    "nPerLam = 10;    # number of voxels per interior wavelength\n",
    "\n",
    "# Refractive index of scatterer (real and imaginary parts)\n",
    "refRe = 1.4;\n",
    "refIm = 0.01;\n",
    "\n",
    "# Generate voxel coordinates and vizualize\n",
    "refInd = refRe + 1j*refIm;"
   ]
  },
  {
   "cell_type": "code",
   "execution_count": 4,
   "metadata": {},
   "outputs": [],
   "source": [
    "a = 1;\n",
    "aspectRatio = 1/2; # ratio of column's height to it's width\n",
    "x, y, V = koch_snowflake(order=3, scale=a)\n",
    "\n",
    "dom_x = np.max(x) - np.min(x)\n",
    "dom_y = np.max(y) - np.min(y)\n",
    "dom_z = a*aspectRatio;\n",
    "\n",
    "lambda_ext = 2*np.pi*a/sizeParam;\n",
    "\n",
    "h_pref = dom_y; # dimension you wish to discretise exactly\n",
    "lambda_int = lambda_ext/np.real(refInd); # interior wavelength\n",
    "res_temp = lambda_int/nPerLam; # provisional resolution\n",
    "M = np.int(np.ceil(h_pref/res_temp))\n",
    "res = h_pref/M;"
   ]
  },
  {
   "cell_type": "code",
   "execution_count": 5,
   "metadata": {},
   "outputs": [],
   "source": [
    "r, L, M, N = generatedomain(res, dom_x, dom_y, dom_z)"
   ]
  },
  {
   "cell_type": "code",
   "execution_count": 6,
   "metadata": {},
   "outputs": [
    {
     "data": {
      "text/plain": [
       "(20, 23, 6, 3)"
      ]
     },
     "execution_count": 6,
     "metadata": {},
     "output_type": "execute_result"
    }
   ],
   "source": [
    "r.shape"
   ]
  },
  {
   "cell_type": "code",
   "execution_count": 7,
   "metadata": {},
   "outputs": [
    {
     "data": {
      "image/png": "[encoded data removed]",
      "text/plain": [
       "<Figure size 576x576 with 1 Axes>"
      ]
     },
     "metadata": {
      "needs_background": "light"
     },
     "output_type": "display_data"
    }
   ],
   "source": [
    "\n",
    "\n",
    "plt.figure(figsize=(8, 8))\n",
    "plt.axis('equal')\n",
    "axes = plt.gca()\n",
    "plt.fill(x, y)\n",
    "plt.show()"
   ]
  },
  {
   "cell_type": "code",
   "execution_count": 8,
   "metadata": {},
   "outputs": [],
   "source": [
    "xd = r[:, :, :, 0]\n",
    "yd = r[:, :, :, 1]\n",
    "zd = r[:, :, :, 2]\n",
    "x_vec = xd.reshape(L*M*N, 1, order='F').shape \n",
    "y_vec = yd.reshape(L*M*N, 1, order='F').shape"
   ]
  },
  {
   "cell_type": "code",
   "execution_count": 9,
   "metadata": {},
   "outputs": [
    {
     "data": {
      "text/plain": [
       "((20, 23, 6), 20, 23)"
      ]
     },
     "execution_count": 9,
     "metadata": {},
     "output_type": "execute_result"
    }
   ],
   "source": [
    "xd.shape, L, M"
   ]
  },
  {
   "cell_type": "code",
   "execution_count": 10,
   "metadata": {},
   "outputs": [
    {
     "data": {
      "text/plain": [
       "array([[[-0.82608696, -0.82608696, -0.82608696, -0.82608696,\n",
       "         -0.82608696, -0.82608696],\n",
       "        [-0.82608696, -0.82608696, -0.82608696, -0.82608696,\n",
       "         -0.82608696, -0.82608696],\n",
       "        [-0.82608696, -0.82608696, -0.82608696, -0.82608696,\n",
       "         -0.82608696, -0.82608696],\n",
       "        ...,\n",
       "        [-0.82608696, -0.82608696, -0.82608696, -0.82608696,\n",
       "         -0.82608696, -0.82608696],\n",
       "        [-0.82608696, -0.82608696, -0.82608696, -0.82608696,\n",
       "         -0.82608696, -0.82608696],\n",
       "        [-0.82608696, -0.82608696, -0.82608696, -0.82608696,\n",
       "         -0.82608696, -0.82608696]],\n",
       "\n",
       "       [[-0.73913043, -0.73913043, -0.73913043, -0.73913043,\n",
       "         -0.73913043, -0.73913043],\n",
       "        [-0.73913043, -0.73913043, -0.73913043, -0.73913043,\n",
       "         -0.73913043, -0.73913043],\n",
       "        [-0.73913043, -0.73913043, -0.73913043, -0.73913043,\n",
       "         -0.73913043, -0.73913043],\n",
       "        ...,\n",
       "        [-0.73913043, -0.73913043, -0.73913043, -0.73913043,\n",
       "         -0.73913043, -0.73913043],\n",
       "        [-0.73913043, -0.73913043, -0.73913043, -0.73913043,\n",
       "         -0.73913043, -0.73913043],\n",
       "        [-0.73913043, -0.73913043, -0.73913043, -0.73913043,\n",
       "         -0.73913043, -0.73913043]],\n",
       "\n",
       "       [[-0.65217391, -0.65217391, -0.65217391, -0.65217391,\n",
       "         -0.65217391, -0.65217391],\n",
       "        [-0.65217391, -0.65217391, -0.65217391, -0.65217391,\n",
       "         -0.65217391, -0.65217391],\n",
       "        [-0.65217391, -0.65217391, -0.65217391, -0.65217391,\n",
       "         -0.65217391, -0.65217391],\n",
       "        ...,\n",
       "        [-0.65217391, -0.65217391, -0.65217391, -0.65217391,\n",
       "         -0.65217391, -0.65217391],\n",
       "        [-0.65217391, -0.65217391, -0.65217391, -0.65217391,\n",
       "         -0.65217391, -0.65217391],\n",
       "        [-0.65217391, -0.65217391, -0.65217391, -0.65217391,\n",
       "         -0.65217391, -0.65217391]],\n",
       "\n",
       "       ...,\n",
       "\n",
       "       [[ 0.65217391,  0.65217391,  0.65217391,  0.65217391,\n",
       "          0.65217391,  0.65217391],\n",
       "        [ 0.65217391,  0.65217391,  0.65217391,  0.65217391,\n",
       "          0.65217391,  0.65217391],\n",
       "        [ 0.65217391,  0.65217391,  0.65217391,  0.65217391,\n",
       "          0.65217391,  0.65217391],\n",
       "        ...,\n",
       "        [ 0.65217391,  0.65217391,  0.65217391,  0.65217391,\n",
       "          0.65217391,  0.65217391],\n",
       "        [ 0.65217391,  0.65217391,  0.65217391,  0.65217391,\n",
       "          0.65217391,  0.65217391],\n",
       "        [ 0.65217391,  0.65217391,  0.65217391,  0.65217391,\n",
       "          0.65217391,  0.65217391]],\n",
       "\n",
       "       [[ 0.73913043,  0.73913043,  0.73913043,  0.73913043,\n",
       "          0.73913043,  0.73913043],\n",
       "        [ 0.73913043,  0.73913043,  0.73913043,  0.73913043,\n",
       "          0.73913043,  0.73913043],\n",
       "        [ 0.73913043,  0.73913043,  0.73913043,  0.73913043,\n",
       "          0.73913043,  0.73913043],\n",
       "        ...,\n",
       "        [ 0.73913043,  0.73913043,  0.73913043,  0.73913043,\n",
       "          0.73913043,  0.73913043],\n",
       "        [ 0.73913043,  0.73913043,  0.73913043,  0.73913043,\n",
       "          0.73913043,  0.73913043],\n",
       "        [ 0.73913043,  0.73913043,  0.73913043,  0.73913043,\n",
       "          0.73913043,  0.73913043]],\n",
       "\n",
       "       [[ 0.82608696,  0.82608696,  0.82608696,  0.82608696,\n",
       "          0.82608696,  0.82608696],\n",
       "        [ 0.82608696,  0.82608696,  0.82608696,  0.82608696,\n",
       "          0.82608696,  0.82608696],\n",
       "        [ 0.82608696,  0.82608696,  0.82608696,  0.82608696,\n",
       "          0.82608696,  0.82608696],\n",
       "        ...,\n",
       "        [ 0.82608696,  0.82608696,  0.82608696,  0.82608696,\n",
       "          0.82608696,  0.82608696],\n",
       "        [ 0.82608696,  0.82608696,  0.82608696,  0.82608696,\n",
       "          0.82608696,  0.82608696],\n",
       "        [ 0.82608696,  0.82608696,  0.82608696,  0.82608696,\n",
       "          0.82608696,  0.82608696]]])"
      ]
     },
     "execution_count": 10,
     "metadata": {},
     "output_type": "execute_result"
    }
   ],
   "source": [
    "xd"
   ]
  },
  {
   "cell_type": "code",
   "execution_count": 11,
   "metadata": {},
   "outputs": [],
   "source": [
    "points = r[:, :, :, 0:2].reshape(L*M*N, 2, order='F')"
   ]
  },
  {
   "cell_type": "code",
   "execution_count": null,
   "metadata": {},
   "outputs": [],
   "source": []
  },
  {
   "cell_type": "code",
   "execution_count": 12,
   "metadata": {},
   "outputs": [],
   "source": [
    "from matplotlib import path\n",
    "p = path.Path(V) \n",
    "idx = p.contains_points(points).reshape(L, M, N, order='F')"
   ]
  },
  {
   "cell_type": "code",
   "execution_count": null,
   "metadata": {},
   "outputs": [],
   "source": []
  },
  {
   "cell_type": "code",
   "execution_count": 13,
   "metadata": {},
   "outputs": [
    {
     "data": {
      "image/png": "[encoded data removed]",
      "text/plain": [
       "<Figure size 432x288 with 1 Axes>"
      ]
     },
     "metadata": {
      "needs_background": "light"
     },
     "output_type": "display_data"
    }
   ],
   "source": [
    "from plotting import set_axes_equal\n",
    "# This import registers the 3D projection, but is otherwise unused.\n",
    "from mpl_toolkits.mplot3d import Axes3D  # noqa: F401 unused import\n",
    "\n",
    "import matplotlib.pyplot as plt\n",
    "fig = plt.figure()\n",
    "ax = fig.gca(projection='3d')\n",
    "ax.set_aspect('equal')\n",
    "\n",
    "n = 100\n",
    "\n",
    "# For each set of style and range settings, plot n random points in the box\n",
    "# defined by x in [23, 32], y in [0, 100], z in [zlow, zhigh].\n",
    "ax.scatter(xd[idx], yd[idx], zd[idx])\n",
    "\n",
    "ax.set_xlabel('X Label')\n",
    "ax.set_ylabel('Y Label')\n",
    "ax.set_zlabel('Z Label')\n",
    "set_axes_equal(ax)             # important!\n",
    "\n",
    "plt.show()"
   ]
  },
  {
   "cell_type": "code",
   "execution_count": 14,
   "metadata": {},
   "outputs": [
    {
     "data": {
      "text/plain": [
       "(20, 23, 2)"
      ]
     },
     "execution_count": 14,
     "metadata": {},
     "output_type": "execute_result"
    }
   ],
   "source": [
    "r[:, :, 0, 0:2].shape"
   ]
  },
  {
   "cell_type": "code",
   "execution_count": 15,
   "metadata": {},
   "outputs": [],
   "source": [
    "V_plot = np.vstack((V, V[0,:]))"
   ]
  },
  {
   "cell_type": "code",
   "execution_count": 16,
   "metadata": {},
   "outputs": [
    {
     "data": {
      "image/png": "[encoded data removed]",
      "text/plain": [
       "<Figure size 432x288 with 1 Axes>"
      ]
     },
     "metadata": {
      "needs_background": "light"
     },
     "output_type": "display_data"
    }
   ],
   "source": [
    "%matplotlib inline\n",
    "from matplotlib import pyplot as plt\n",
    "from matplotlib.patches import Polygon\n",
    "from matplotlib.collections import PatchCollection\n",
    "\n",
    "polygon = Polygon(V_plot, facecolor=\"none\", \n",
    "              edgecolor='black', lw=0.7)\n",
    "plt.gca().add_patch(polygon)\n",
    "axes = plt.gca()\n",
    "axes.set_xlim([np.min(x),np.max(x)])\n",
    "axes.set_ylim([np.min(y),np.max(y)])\n",
    "axes.set_aspect('equal', 'box')\n",
    "plt.show()"
   ]
  },
  {
   "cell_type": "code",
   "execution_count": 17,
   "metadata": {},
   "outputs": [],
   "source": [
    "dom_x = np.max(x) - np.min(x)\n",
    "dom_y = np.max(y) - np.min(y)\n",
    "dom_z = a*aspectRatio;\n",
    "P = dom_y*dom_z;"
   ]
  },
  {
   "cell_type": "code",
   "execution_count": null,
   "metadata": {},
   "outputs": [],
   "source": []
  },
  {
   "cell_type": "code",
   "execution_count": null,
   "metadata": {},
   "outputs": [],
   "source": []
  }
 ],
 "metadata": {
  "kernelspec": {
   "display_name": "Python 3",
   "language": "python",
   "name": "python3"
  },
  "language_info": {
   "codemirror_mode": {
    "name": "ipython",
    "version": 3
   },
   "file_extension": ".py",
   "mimetype": "text/x-python",
   "name": "python",
   "nbconvert_exporter": "python",
   "pygments_lexer": "ipython3",
   "version": "3.7.2"
  }
 },
 "nbformat": 4,
 "nbformat_minor": 2
}
